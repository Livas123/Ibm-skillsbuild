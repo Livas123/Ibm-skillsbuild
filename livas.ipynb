{
  "nbformat": 4,
  "nbformat_minor": 0,
  "metadata": {
    "colab": {
      "provenance": [],
      "toc_visible": true
    },
    "kernelspec": {
      "name": "python3",
      "display_name": "Python 3"
    },
    "language_info": {
      "name": "python"
    }
  },
  "cells": [
    {
      "cell_type": "code",
      "source": [
        "# prompt: use the /content/Restaurant_Reviews.csv use the 2 columns in it and make machine learing project with input\n",
        "\n",
        "import pandas as pd\n",
        "from sklearn.model_selection import train_test_split\n",
        "from sklearn.feature_extraction.text import CountVectorizer\n",
        "from sklearn.naive_bayes import MultinomialNB\n",
        "from sklearn.metrics import accuracy_score\n",
        "\n",
        "# Load the data\n",
        "df = pd.read_csv('/content/Restaurant_Reviews.csv')\n",
        "\n",
        "# Prepare features and target\n",
        "X = df['Review']\n",
        "y = df['Liked']\n",
        "\n",
        "# Split the data into train and test sets\n",
        "X_train, X_test, y_train, y_test = train_test_split(X, y, test_size=0.2, random_state=42)\n",
        "\n",
        "# Vectorize the features\n",
        "vectorizer = CountVectorizer()\n",
        "X_train_vec = vectorizer.fit_transform(X_train)\n",
        "X_test_vec = vectorizer.transform(X_test)\n",
        "\n",
        "# Train the Naive Bayes model\n",
        "clf = MultinomialNB()\n",
        "clf.fit(X_train_vec, y_train)\n",
        "\n",
        "# Make predictions on the test set\n",
        "y_pred = clf.predict(X_test_vec)\n",
        "\n",
        "# Evaluate the model\n",
        "accuracy = accuracy_score(y_test, y_pred)\n",
        "print(f\"Accuracy: {accuracy:.2f}\")\n",
        "\n",
        "# Get user input\n",
        "review_text = input(\"Enter a restaurant review: \")\n",
        "\n",
        "# Vectorize the user input\n",
        "review_vec = vectorizer.transform([review_text])\n",
        "\n",
        "# Predict the sentiment\n",
        "prediction = clf.predict(review_vec)[0]\n",
        "\n",
        "# Print the prediction\n",
        "if prediction == 1:\n",
        "  print(\"Positive review\")\n",
        "else:\n",
        "  print(\"Negative review\")\n"
      ],
      "metadata": {
        "colab": {
          "base_uri": "https://localhost:8080/"
        },
        "id": "fv1NuPqXfDnL",
        "outputId": "ff792241-5101-4667-8098-549de565e1f5"
      },
      "execution_count": null,
      "outputs": [
        {
          "output_type": "stream",
          "name": "stdout",
          "text": [
            "Accuracy: 0.80\n"
          ]
        }
      ]
    },
    {
      "cell_type": "code",
      "source": [
        "5th"
      ],
      "metadata": {
        "id": "HC1-TlG8Fc7B"
      },
      "execution_count": null,
      "outputs": []
    }
  ]
}